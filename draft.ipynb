{
 "cells": [
  {
   "cell_type": "code",
   "execution_count": 17,
   "metadata": {},
   "outputs": [],
   "source": [
    "import structure as st"
   ]
  },
  {
   "cell_type": "code",
   "execution_count": 18,
   "metadata": {},
   "outputs": [],
   "source": [
    "from pymatgen.io.vasp import Poscar"
   ]
  },
  {
   "cell_type": "code",
   "execution_count": 19,
   "metadata": {},
   "outputs": [
    {
     "name": "stdout",
     "output_type": "stream",
     "text": [
      "No lattice constant given. Using 4.859999999999999 for FeBiO3\n"
     ]
    }
   ],
   "source": [
    "pp_class = st.PerfectPerovskite(Asite='Fe', Bsite='Bi', Osite='O')\n",
    "\n",
    "pp_struct = pp_class.get_struct_from_structure_type(structure_type='111')"
   ]
  },
  {
   "cell_type": "code",
   "execution_count": 20,
   "metadata": {},
   "outputs": [],
   "source": [
    "strain_class = st.StrainedPerovskite.generate_random_strain(pp_class, structure_type='111', \n",
    "                                                            max_strain=0.06, perturb_amnt=None)\n",
    "strain_struct = strain_class.structure"
   ]
  },
  {
   "cell_type": "code",
   "execution_count": 21,
   "metadata": {},
   "outputs": [
    {
     "name": "stdout",
     "output_type": "stream",
     "text": [
      "Full Formula (Fe1 Bi1 O3)\n",
      "Reduced Formula: FeBiO3\n",
      "abc   :   4.900069   5.142239   4.922302\n",
      "angles:  92.166734  88.285040  92.644976\n",
      "Sites (5)\n",
      "  #  SP            a         b         c\n",
      "---  ----  ---------  --------  --------\n",
      "  0  Fe     0         0         0\n",
      "  1  Bi     0.510879  0.52801   0.507583\n",
      "  2  O      0.500415  0.496996  0.036066\n",
      "  3  O      0.51114   0.026668  0.44901\n",
      "  4  O     -0.022642  0.477464  0.530104\n"
     ]
    }
   ],
   "source": [
    "print(strain_struct)"
   ]
  },
  {
   "cell_type": "code",
   "execution_count": 37,
   "metadata": {},
   "outputs": [],
   "source": [
    "Poscar(pp_struct).write_file('POSCAR_pp_'+str('111'))\n",
    "Poscar(strain_struct).write_file('POSCAR_strain_'+str('111'))"
   ]
  },
  {
   "cell_type": "code",
   "execution_count": 26,
   "metadata": {},
   "outputs": [
    {
     "data": {
      "text/plain": [
       "'/mnt/c/Users/59905/atomate/MLperovskites'"
      ]
     },
     "execution_count": 26,
     "metadata": {},
     "output_type": "execute_result"
    }
   ],
   "source": [
    "pwd"
   ]
  },
  {
   "cell_type": "code",
   "execution_count": null,
   "metadata": {},
   "outputs": [],
   "source": []
  },
  {
   "cell_type": "code",
   "execution_count": null,
   "metadata": {},
   "outputs": [],
   "source": []
  },
  {
   "cell_type": "code",
   "execution_count": 1,
   "metadata": {},
   "outputs": [],
   "source": [
    "API_KEY='Am32qRQynJpMIKzU'"
   ]
  },
  {
   "cell_type": "code",
   "execution_count": 2,
   "metadata": {},
   "outputs": [],
   "source": [
    "from pymatgen import MPRester"
   ]
  },
  {
   "cell_type": "code",
   "execution_count": 3,
   "metadata": {},
   "outputs": [],
   "source": [
    "mpr = MPRester(API_KEY)\n",
    "\n",
    "struct = mpr.get_structure_by_material_id(\"mp-4019\")"
   ]
  },
  {
   "cell_type": "code",
   "execution_count": 4,
   "metadata": {
    "scrolled": true
   },
   "outputs": [
    {
     "name": "stdout",
     "output_type": "stream",
     "text": [
      "Full Formula (Ca8 Ti8 O24)\n",
      "Reduced Formula: CaTiO3\n",
      "abc   :   7.718551   7.694012   7.718501\n",
      "angles:  90.000000  88.953675  90.000000\n",
      "Sites (40)\n",
      "  #  SP           a         b         c\n",
      "---  ----  --------  --------  --------\n",
      "  0  O     0.451025  0.75      0.529185\n",
      "  1  O     0.548975  0.25      0.470815\n",
      "  2  O     0.529084  0.75      0.951022\n",
      "  3  O     0.470916  0.25      0.048978\n",
      "  4  O     0.24971   0.959003  0.040337\n",
      "  5  O     0.75029   0.459003  0.959663\n",
      "  6  O     0.75029   0.040997  0.959663\n",
      "  7  O     0.24971   0.540997  0.040337\n",
      "  8  O     0.540315  0.958916  0.249709\n",
      "  9  O     0.459685  0.458916  0.750291\n",
      " 10  O     0.459685  0.041084  0.750291\n",
      " 11  O     0.540315  0.541084  0.249709\n",
      " 12  O     0.250295  0.04106   0.459678\n",
      " 13  O     0.749705  0.54106   0.540322\n",
      " 14  O     0.749705  0.95894   0.540322\n",
      " 15  O     0.250295  0.45894   0.459678\n",
      " 16  O     0.048918  0.25      0.970908\n",
      " 17  O     0.951082  0.75      0.029092\n",
      " 18  O     0.970804  0.25      0.54892\n",
      " 19  O     0.029196  0.75      0.45108\n",
      " 20  O     0.959656  0.459017  0.250295\n",
      " 21  O     0.040344  0.959017  0.749705\n",
      " 22  O     0.040344  0.540983  0.749705\n",
      " 23  O     0.959656  0.040983  0.250295\n",
      " 24  Ca    0.766942  0.75      0.275986\n",
      " 25  Ca    0.233058  0.25      0.724014\n",
      " 26  Ca    0.775927  0.75      0.766897\n",
      " 27  Ca    0.224073  0.25      0.233103\n",
      " 28  Ca    0.276045  0.75      0.266884\n",
      " 29  Ca    0.723955  0.25      0.733116\n",
      " 30  Ca    0.266839  0.75      0.77598\n",
      " 31  Ca    0.733161  0.25      0.22402\n",
      " 32  Ti    0.5       0.5       0.5\n",
      " 33  Ti    0.5       0         0.5\n",
      " 34  Ti    0         0.5       0.5\n",
      " 35  Ti    0         0         0.5\n",
      " 36  Ti    0.5       0.5       0\n",
      " 37  Ti    0.5       0         0\n",
      " 38  Ti    0         0.5       0\n",
      " 39  Ti    0         0         0\n"
     ]
    }
   ],
   "source": [
    "print(struct)"
   ]
  },
  {
   "cell_type": "code",
   "execution_count": null,
   "metadata": {},
   "outputs": [],
   "source": []
  }
 ],
 "metadata": {
  "kernelspec": {
   "display_name": "Python 3",
   "language": "python",
   "name": "python3"
  },
  "language_info": {
   "codemirror_mode": {
    "name": "ipython",
    "version": 3
   },
   "file_extension": ".py",
   "mimetype": "text/x-python",
   "name": "python",
   "nbconvert_exporter": "python",
   "pygments_lexer": "ipython3",
   "version": "3.7.3"
  }
 },
 "nbformat": 4,
 "nbformat_minor": 2
}
