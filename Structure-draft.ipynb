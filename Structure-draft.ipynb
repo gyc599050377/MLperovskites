{
 "cells": [
  {
   "cell_type": "code",
   "execution_count": 1,
   "metadata": {},
   "outputs": [],
   "source": [
    "\"\"\"For setting static perovskite\"\"\"\n",
    "\n",
    "import random\n",
    "import numpy as np\n",
    "\n",
    "from pymatgen.core import Element, Structure, Lattice\n",
    "\n",
    "allowed_struct_type = ['111', '211', 's2s21', 's2s22']"
   ]
  },
  {
   "cell_type": "code",
   "execution_count": 2,
   "metadata": {},
   "outputs": [],
   "source": [
    "#NOTE: user should change this to their own launchpad path\n",
    "lpad_file_path = '/mnt/c/Users/59905/atomate/config/my_launchpad.yaml'"
   ]
  },
  {
   "cell_type": "code",
   "execution_count": 3,
   "metadata": {},
   "outputs": [],
   "source": [
    "class PerfectPerovskite(object):\n",
    "\n",
    "    def __init__(self, Asite=\"Pb\", Bsite=\"Ti\", Osite=\"O\",\n",
    "                 lattconst=None):\n",
    "        self.eltA = Element(Asite)\n",
    "        self.eltB = Element(Bsite)\n",
    "        self.eltC = Element(Osite)\n",
    "        if lattconst is None: #guess lattice constant based on perfect perovskite tol factor\n",
    "            try:\n",
    "                lattconst = (self.eltB.ionic_radii[4] + self.eltC.ionic_radii[-2]) * 2.\n",
    "            except:\n",
    "                lattconst = (max(self.eltB.ionic_radii.values()) +\n",
    "                             max(self.eltC.ionic_radii.values())) * 2.\n",
    "            lattconst = float(lattconst)\n",
    "            print('No lattice constant given. Using {} for {}{}{}3'.format( lattconst, Asite,\n",
    "                                                                              Bsite, Osite))\n",
    "\n",
    "        self.lattconst = lattconst\n",
    "\n",
    "    def get_111_struct(self):\n",
    "        lattice = Lattice( self.lattconst * np.identity(3))\n",
    "        species = [self.eltA, self.eltB, self.eltC,\n",
    "                   self.eltC, self.eltC]\n",
    "        coords = [[0., 0., 0.], [0.5, 0.5, 0.5], [0.5, 0.5, 0.],\n",
    "                  [0.5, 0., 0.5], [0., 0.5, 0.5]]\n",
    "\n",
    "        struct = Structure(lattice, species, coords,\n",
    "                                coords_are_cartesian=False)\n",
    "        return struct.copy()\n",
    "\n",
    "    def get_211_struct(self):\n",
    "        struct = self.get_111_struct()\n",
    "        struct.make_supercell( [2, 1, 1])\n",
    "\n",
    "        return struct.copy()\n",
    "\n",
    "    def get_sqrt2_1_struct(self):\n",
    "        \"\"\"Setup a sqrt 2 x sqrt 2 x 1 structure\"\"\"\n",
    "\n",
    "        orig_scaled_mat = np.array([[self.lattconst * np.sqrt(2), 0., 0.],\n",
    "                                    [0., self.lattconst * np.sqrt(2), 0.],\n",
    "                                    [0., 0., self.lattconst]])\n",
    "        rotation = np.array([[np.cos(45. * np.pi / 180.), -np.sin(45. * np.pi / 180.), 0],\n",
    "                             [np.sin(45. * np.pi / 180.), np.cos(45. * np.pi / 180.), 0],\n",
    "                             [0., 0., 1.]])\n",
    "        rotated_mat = np.dot(orig_scaled_mat, rotation)\n",
    "        lattice = Lattice(rotated_mat)\n",
    "        species = [self.eltA, self.eltA,\n",
    "                   self.eltB, self.eltB,\n",
    "                   self.eltC, self.eltC, self.eltC,\n",
    "                   self.eltC, self.eltC, self.eltC]\n",
    "        coords = [[0.5, 0., 0.5], [0., 0.5, 0.5],\n",
    "                  [0., 0., 0.], [0.5, 0.5, 0.],\n",
    "                  [0.25, 0.25, 0.], [0.75, 0.75, 0.], [0.25, 0.75, 0.],\n",
    "                  [0.75, 0.25, 0.], [0., 0., 0.5], [0.5, 0.5, 0.5]]\n",
    "\n",
    "        struct = Structure(lattice, species, coords,\n",
    "                           coords_are_cartesian=False)\n",
    "\n",
    "        return struct.copy()\n",
    "\n",
    "    def get_sqrt2_2_struct(self):\n",
    "        \"\"\"Setup a sqrt 2 x sqrt 2 x 2 structure\"\"\"\n",
    "        struct = self.get_sqrt2_1_struct()\n",
    "        struct.make_supercell( [1, 1, 2])\n",
    "        return struct.copy()\n",
    "\n",
    "    def get_struct_from_structure_type(self, structure_type='111'):\n",
    "\n",
    "        if structure_type not in allowed_struct_type:\n",
    "            raise ValueError(\"{} not in {}\".format( structure_type,\n",
    "                                                    allowed_struct_type))\n",
    "        if structure_type == '111':\n",
    "            base = self.get_111_struct()\n",
    "        elif structure_type == '211':\n",
    "            base = self.get_211_struct()\n",
    "        elif structure_type == 's2s21':\n",
    "            base = self.get_sqrt2_1_struct()\n",
    "        elif structure_type == 's2s22':\n",
    "            base = self.get_sqrt2_2_struct()\n",
    "\n",
    "        return base"
   ]
  },
  {
   "cell_type": "code",
   "execution_count": 4,
   "metadata": {},
   "outputs": [],
   "source": [
    "p1 = PerfectPerovskite(Asite='Fe', Bsite='Bi', Osite='O', lattconst=1)\n",
    "\n",
    "p2 = p1.get_struct_from_structure_type(structure_type='s2s22')"
   ]
  },
  {
   "cell_type": "code",
   "execution_count": 76,
   "metadata": {},
   "outputs": [
    {
     "name": "stdout",
     "output_type": "stream",
     "text": [
      "<__main__.PerfectPerovskite object at 0x7f5940df0ef0>\n"
     ]
    }
   ],
   "source": [
    "print(p1)"
   ]
  },
  {
   "cell_type": "code",
   "execution_count": 68,
   "metadata": {},
   "outputs": [
    {
     "data": {
      "text/plain": [
       "pymatgen.core.structure.Structure"
      ]
     },
     "execution_count": 68,
     "metadata": {},
     "output_type": "execute_result"
    }
   ],
   "source": [
    "type(p2)"
   ]
  },
  {
   "cell_type": "code",
   "execution_count": 69,
   "metadata": {
    "scrolled": false
   },
   "outputs": [
    {
     "name": "stdout",
     "output_type": "stream",
     "text": [
      "Full Formula (Fe4 Bi4 O12)\n",
      "Reduced Formula: FeBiO3\n",
      "abc   :   1.414214   1.414214   2.000000\n",
      "angles:  90.000000  90.000000  90.000000\n",
      "Sites (20)\n",
      "  #  SP       a     b     c\n",
      "---  ----  ----  ----  ----\n",
      "  0  Fe    0.5   0     0.25\n",
      "  1  Fe    0.5   0     0.75\n",
      "  2  Fe    0     0.5   0.25\n",
      "  3  Fe    0     0.5   0.75\n",
      "  4  Bi    0     0     0\n",
      "  5  Bi    0     0     0.5\n",
      "  6  Bi    0.5   0.5   0\n",
      "  7  Bi    0.5   0.5   0.5\n",
      "  8  O     0.25  0.25  0\n",
      "  9  O     0.25  0.25  0.5\n",
      " 10  O     0.75  0.75  0\n",
      " 11  O     0.75  0.75  0.5\n",
      " 12  O     0.25  0.75  0\n",
      " 13  O     0.25  0.75  0.5\n",
      " 14  O     0.75  0.25  0\n",
      " 15  O     0.75  0.25  0.5\n",
      " 16  O     0     0     0.25\n",
      " 17  O     0     0     0.75\n",
      " 18  O     0.5   0.5   0.25\n",
      " 19  O     0.5   0.5   0.75\n"
     ]
    }
   ],
   "source": [
    "print(p2)"
   ]
  },
  {
   "cell_type": "code",
   "execution_count": 167,
   "metadata": {},
   "outputs": [
    {
     "data": {
      "text/plain": [
       "'/mnt/c/Users/59905/atomate/MLperovskites'"
      ]
     },
     "execution_count": 167,
     "metadata": {},
     "output_type": "execute_result"
    }
   ],
   "source": [
    "pwd"
   ]
  },
  {
   "cell_type": "code",
   "execution_count": 8,
   "metadata": {},
   "outputs": [],
   "source": [
    "class StrainedPerovskite( object):\n",
    "\n",
    "    def __init__(self, base_perovskite_cls, strain_tensor, atomic_perturbations,\n",
    "                 structure_type='111'):\n",
    "        self.base_perovskite_cls = base_perovskite_cls\n",
    "\n",
    "        if structure_type not in allowed_struct_type:\n",
    "            raise ValueError(\"{} not in {}\".format( structure_type,\n",
    "                                                    allowed_struct_type))\n",
    "        self.structure_type = structure_type\n",
    "        self.base = base_perovskite_cls.get_struct_from_structure_type( structure_type)\n",
    "\n",
    "        self.strain_tensor = strain_tensor\n",
    "\n",
    "        if len( atomic_perturbations) != len( self.base):\n",
    "            raise ValueError(\"number of perturbations given = {} but there are {} \"\n",
    "                             \"atoms...\".format( len(atomic_perturbations), len(self.base)))\n",
    "\n",
    "        self.atomic_perturbations = atomic_perturbations\n",
    "\n",
    "    @property\n",
    "    def structure(self):\n",
    "        strained_lattice = perform_strain( self.base.lattice.matrix, self.strain_tensor)\n",
    "        species, coords = [], []\n",
    "        for ind, perturb in enumerate(self.atomic_perturbations):\n",
    "            species.append( self.base.species[ind])\n",
    "            coords.append( self.base.cart_coords[ind] + np.array(perturb) )\n",
    "\n",
    "        struct = Structure(strained_lattice, species, coords,\n",
    "                           coords_are_cartesian=True)\n",
    "\n",
    "        return struct.copy()\n",
    "\n",
    "    @staticmethod\n",
    "    def generate_random_strain( base_perovskite_cls, structure_type = '111',\n",
    "                                    max_strain = 0.06, perturb_amnt = None):\n",
    "\n",
    "        strain_tensor = random_strain( max_strain)\n",
    "\n",
    "        if perturb_amnt is None:\n",
    "            perturb_amnt = base_perovskite_cls.lattconst * 0.04\n",
    "\n",
    "        if structure_type not in allowed_struct_type:\n",
    "            raise ValueError(\"{} not in {}\".format( structure_type,\n",
    "                                                    allowed_struct_type))\n",
    "        def get_rand_vec():\n",
    "            vector = np.random.randn(3)\n",
    "            vnorm = np.linalg.norm(vector)\n",
    "            return vector / vnorm * perturb_amnt if vnorm != 0 else get_rand_vec()\n",
    "\n",
    "        base_struct = base_perovskite_cls.get_struct_from_structure_type( structure_type)\n",
    "        for siteind, site in enumerate(base_struct.sites): #find the first A-site atom, because we will not perturb this atom\n",
    "            if site.specie == base_perovskite_cls.eltA:\n",
    "                break\n",
    "        atomic_perturbations = [get_rand_vec() if ind != siteind else np.array([0.,0.,0.]) for ind in range(len(base_struct))]\n",
    "\n",
    "        return StrainedPerovskite( base_perovskite_cls, strain_tensor,\n",
    "                                   atomic_perturbations, structure_type=structure_type)\n",
    "\n",
    "    @staticmethod\n",
    "    def generate_from_final_structures( perfect_structure, strained_structure,\n",
    "                                        guess_B_site = None):\n",
    "        \"\"\"\n",
    "        From two structures\n",
    "        :param perfect_structure:\n",
    "        :param strained_structure:\n",
    "        :return:\n",
    "        \"\"\"\n",
    "        if len(perfect_structure) != len(strained_structure):\n",
    "            raise ValueError(\"Inconsistent number of atoms!!\")\n",
    "\n",
    "        abc = perfect_structure.lattice.abc\n",
    "        if len(perfect_structure) == 5:\n",
    "            structure_type = '111'\n",
    "        elif len(perfect_structure) == 20:\n",
    "            structure_type = 's2s22'\n",
    "        elif abs( 1. - abc[1] / abc[2]) < 0.1:\n",
    "            structure_type = '211'\n",
    "        else:\n",
    "            structure_type = 's2s21'\n",
    "\n",
    "        # generate base perovskite class\n",
    "        if structure_type == 's2s22':\n",
    "            latt_const = abc[2]/2.\n",
    "        else:\n",
    "            latt_const = abc[2]\n",
    "\n",
    "        red_comp = perfect_structure.composition.reduced_composition\n",
    "        assume_B_site = [\"Ti\", \"Zr\", \"Nb\", \"Al\", \"Ta\", \"Sc\", \"Lu\"]\n",
    "        if guess_B_site:\n",
    "            assume_B_site.extend([guess_B_site])\n",
    "\n",
    "        for k,v in red_comp.items():\n",
    "            if v == 3.:\n",
    "                Osite = k.symbol\n",
    "            elif k.symbol in assume_B_site:\n",
    "                Bsite = k.symbol\n",
    "            else:\n",
    "                Asite = k.symbol\n",
    "\n",
    "        base_pv = PerfectPerovskite(Asite=Asite, Bsite=Bsite,\n",
    "                                    Osite=Osite, lattconst=latt_const)\n",
    "\n",
    "        # get perturbation list (with periodic boundary conditions and accounting for different lattices)\n",
    "        atomic_perturbations = []\n",
    "        for site_init, site_final in zip(perfect_structure, strained_structure):\n",
    "            frac_final_site_in_perf_lattice = perfect_structure.lattice.get_fractional_coords( site_final.coords)\n",
    "            dist, jimage = site_init.distance_and_image_from_frac_coords(frac_final_site_in_perf_lattice)\n",
    "            vec_init_to_final = perfect_structure.lattice.get_cartesian_coords(frac_final_site_in_perf_lattice -\n",
    "                                                                                jimage - site_init.frac_coords)\n",
    "            atomic_perturbations.append( vec_init_to_final[:])\n",
    "\n",
    "        # get lattice strain\n",
    "        original_lattice_matrix = perfect_structure.lattice.matrix\n",
    "        strained_lattice = strained_structure.lattice.matrix\n",
    "        strain_tensor = np.dot( np.linalg.pinv( original_lattice_matrix),\n",
    "                                strained_lattice)\n",
    "        strain_tensor = strain_tensor.T\n",
    "\n",
    "        confirm_strained_lattice = perform_strain( original_lattice_matrix,  strain_tensor)\n",
    "        if Lattice(confirm_strained_lattice) != Lattice(strained_lattice):\n",
    "            raise ValueError(\"Problem matching strain. Generated lattice:\\n{}\\n\"\n",
    "                             \"Correct Strained Lattice:\\n{}\".format( confirm_strained_lattice,\n",
    "                                                                     strained_lattice))\n",
    "\n",
    "        return StrainedPerovskite( base_pv, strain_tensor,\n",
    "                                   atomic_perturbations, structure_type=structure_type)"
   ]
  },
  {
   "cell_type": "code",
   "execution_count": null,
   "metadata": {},
   "outputs": [],
   "source": []
  },
  {
   "cell_type": "code",
   "execution_count": 96,
   "metadata": {},
   "outputs": [
    {
     "data": {
      "text/plain": [
       "array([[ 1., -1.,  0.],\n",
       "       [ 1.,  1.,  0.],\n",
       "       [ 0.,  0.,  2.]])"
      ]
     },
     "execution_count": 96,
     "metadata": {},
     "output_type": "execute_result"
    }
   ],
   "source": [
    "p2.lattice.matrix"
   ]
  },
  {
   "cell_type": "code",
   "execution_count": 93,
   "metadata": {},
   "outputs": [],
   "source": [
    "strain_tensor = random_strain(0.06)"
   ]
  },
  {
   "cell_type": "code",
   "execution_count": 94,
   "metadata": {},
   "outputs": [
    {
     "data": {
      "text/plain": [
       "[[0.9690691958462123, 0.011540110899140817, 0.022174399633941057],\n",
       " [-0.029739782736608444, 1.0395745352082508, 0.006792494341831538],\n",
       " [0.028244518007516657, 0.022879471522166316, 1.016107901757504]]"
      ]
     },
     "execution_count": 94,
     "metadata": {},
     "output_type": "execute_result"
    }
   ],
   "source": [
    "strain_tensor"
   ]
  },
  {
   "cell_type": "code",
   "execution_count": 100,
   "metadata": {},
   "outputs": [],
   "source": [
    "p3_lattice_matrix = perform_strain(p2.lattice.matrix, strain_tensor)"
   ]
  },
  {
   "cell_type": "code",
   "execution_count": 101,
   "metadata": {},
   "outputs": [
    {
     "name": "stdout",
     "output_type": "stream",
     "text": [
      "[[ 0.95752908 -1.06931432  0.00536505]\n",
      " [ 0.98060931  1.00983475  0.05112399]\n",
      " [ 0.0443488   0.01358499  2.0322158 ]]\n"
     ]
    }
   ],
   "source": [
    "print(p3_lattice_matrix)"
   ]
  },
  {
   "cell_type": "code",
   "execution_count": null,
   "metadata": {},
   "outputs": [],
   "source": []
  },
  {
   "cell_type": "code",
   "execution_count": 9,
   "metadata": {},
   "outputs": [],
   "source": [
    "def perform_strain( original_lattice_matrix,  strain_tensor):\n",
    "    \"\"\"\n",
    "    Strains self (in place) by the tensor strain_tensor.\n",
    "    The strain tensor should take the form of a deformation gradiation tensor F (doesn't have to be symmetric). See examples below.\n",
    "\n",
    "    Argument strain_tensor can be a 3x3 tensor or a 1x6 Voigt-notated tensor\n",
    "\n",
    "    Note: 1.0 is not automatically added to the diagonal components of the strain tensor.\n",
    "\n",
    "                            | e11 e12 e13 |\n",
    "    full tensor looks like:\t| e21 e22 e23 |      where e12 = (dx_1/dX_2), the constant factor by which the x component of a vector (in new coordinates) is displaced per y component in original coordinates.\n",
    "                            | e31 e32 e33 |      e12 would then correspond to a shear strain applied on the y-plane in the x direction.\n",
    "\n",
    "    voigt equivalent is: (e11, e22, e33, 2*e23, 2*e13, 2*e12)\n",
    "\n",
    "    For an original vector a, the strain tensor will take it to a new vector a' given by:\n",
    "\n",
    "    a'_x = a_x*e11 + a_y*e12 + a_z*e13\n",
    "    a'_y = a_x*e21 + a_y*e22 + a_z*e23\n",
    "    a'_z = a_x*e31 + a_y*e32 + a_z*e33\n",
    "\n",
    "    Another example: if e12 (a shear applied to the y-plane in the x direction) is 0.1, and if b was originally [0.0, 10.0, 0.0], the new b vector after shearing will be [1.0, 10.0, 0.0]\n",
    "\n",
    "    If the strain tensor is the identity matrix, the lattice will not change.\n",
    "\n",
    "    For out of plane only, specify e13, e23, and e33 as non-zero.\n",
    "    \"\"\"\n",
    "    original_lattice_matrix = np.array( original_lattice_matrix)\n",
    "    strain_tensor = np.array(strain_tensor)\n",
    "\n",
    "    if strain_tensor.ndim == 1:\n",
    "        strain_tensor = convert_voigt_strain_to_3x3_tensor(strain_tensor)\n",
    "\n",
    "    strained_lattice = np.dot(original_lattice_matrix, strain_tensor.T)\n",
    "\n",
    "    return strained_lattice"
   ]
  },
  {
   "cell_type": "code",
   "execution_count": 10,
   "metadata": {},
   "outputs": [],
   "source": [
    "def convert_voigt_strain_to_3x3_tensor(voigt_tensor):\n",
    "    \"\"\"\n",
    "    Converts 1x6 like [e1, e2, e3, e4, e5, e6] to 3x3 like [[e1, e6/2, e5/2], [e6/2, e2, e4/2], [e5/2, e4/2, e3]] (as a numpy array)\n",
    "    \"\"\"\n",
    "\n",
    "    voigt_tensor = np.array(voigt_tensor)\n",
    "\n",
    "    if not voigt_tensor.ndim == 1:\n",
    "        raise Exception(\"Number of array dimensions of voigt tensor must be 1. Input tensor: \" + str(voigt_tensor))\n",
    "\n",
    "    if not len(voigt_tensor) == 6:\n",
    "        raise Exception(\"Voigt tensor must have six components. Input tensor: \" + str(voigt_tensor))\n",
    "\n",
    "    full_tensor = []\n",
    "\n",
    "    full_tensor.append([voigt_tensor[0], voigt_tensor[5] / 2.0, voigt_tensor[4] / 2.0])\n",
    "    full_tensor.append([voigt_tensor[5] / 2.0, voigt_tensor[1], voigt_tensor[3] / 2.0])\n",
    "    full_tensor.append([voigt_tensor[4] / 2.0, voigt_tensor[3] / 2.0, voigt_tensor[2]])\n",
    "\n",
    "    return np.array(full_tensor)"
   ]
  },
  {
   "cell_type": "code",
   "execution_count": 11,
   "metadata": {},
   "outputs": [],
   "source": [
    "def random_strain( max_strain):\n",
    "    def r():\n",
    "        return random.uniform(-1.0 * max_strain, max_strain)\n",
    "\n",
    "    strain_tensor = [[1.0 + r(), r() / 2.0, r() / 2.0],\n",
    "                     [r() / 2.0, 1.0 + r(), r() / 2.0],\n",
    "                     [r() / 2.0, r() / 2.0, 1.0 + r()]]\n",
    "    return strain_tensor"
   ]
  },
  {
   "cell_type": "code",
   "execution_count": 12,
   "metadata": {},
   "outputs": [],
   "source": [
    "def print_all_types(straining = False):\n",
    "    from pymatgen.io.vasp import Poscar\n",
    "    sclass = PerfectPerovskite()\n",
    "\n",
    "    for stype in allowed_struct_type:\n",
    "\n",
    "        if straining:\n",
    "            strained = StrainedPerovskite.generate_random_strain(sclass, structure_type=stype,\n",
    "                                                                 max_strain=0.06, perturb_amnt=None)\n",
    "            s = strained.structure\n",
    "            print('\\n\\n--->', stype)\n",
    "            print('\\tstrain = ', strained.strain_tensor)\n",
    "            print('\\tpert = ', strained.atomic_perturbations)\n",
    "        else:\n",
    "            s = sclass.get_struct_from_structure_type(stype)\n",
    "\n",
    "        Poscar(s).write_file('POSCAR'+str(stype))\n",
    "\n",
    "    return"
   ]
  },
  {
   "cell_type": "code",
   "execution_count": 105,
   "metadata": {},
   "outputs": [
    {
     "data": {
      "text/plain": [
       "['111', '211', 's2s21', 's2s22']"
      ]
     },
     "execution_count": 105,
     "metadata": {},
     "output_type": "execute_result"
    }
   ],
   "source": [
    "allowed_struct_type"
   ]
  },
  {
   "cell_type": "code",
   "execution_count": 166,
   "metadata": {},
   "outputs": [
    {
     "name": "stdout",
     "output_type": "stream",
     "text": [
      "No lattice constant given. Using 4.01 for PbTiO3\n"
     ]
    }
   ],
   "source": [
    "print_all_types(straining = False)"
   ]
  },
  {
   "cell_type": "code",
   "execution_count": 164,
   "metadata": {
    "scrolled": false
   },
   "outputs": [
    {
     "name": "stdout",
     "output_type": "stream",
     "text": [
      "No lattice constant given. Using 4.01 for PbTiO3\n",
      "\n",
      "\n",
      "---> 111\n",
      "\tstrain =  [[1.008859525843317, 0.028378342986121477, 0.02540534813288072], [-0.01848896404789966, 1.0298334374916347, 0.024696297135870966], [-0.0027512707482276813, -0.01350579309185742, 1.004047939148205]]\n",
      "\tpert =  [array([0., 0., 0.]), array([ 0.13199946, -0.09109269,  0.00253474]), array([0.05107083, 0.1185744 , 0.09518426]), array([-0.14153898,  0.02076754,  0.07255059]), array([ 0.10838104, -0.04320953,  0.11006655])]\n",
      "\n",
      "\n",
      "---> 211\n",
      "\tstrain =  [[0.941504749656693, -0.002724416004957996, 0.015327973165997613], [0.01303862803479084, 1.0296883494569076, -0.008653081723101252], [-0.02034030831098619, 0.02886996505201317, 1.0315434834199997]]\n",
      "\tpert =  [array([0., 0., 0.]), array([-0.14558142,  0.06379617, -0.02154671]), array([ 0.10953841, -0.03485901, -0.11186754]), array([-0.12897071, -0.08518086,  0.04288283]), array([0.06051868, 0.12843403, 0.07463478]), array([-0.04809986, -0.15229656, -0.01484324]), array([-0.04481459,  0.07201233,  0.13613977]), array([ 0.15220255, -0.00998439, -0.04962716]), array([-0.13242865, -0.0611804 ,  0.06669162]), array([-0.02560202,  0.15296213,  0.04093023])]\n",
      "\n",
      "\n",
      "---> s2s21\n",
      "\tstrain =  [[0.9606652373762837, -0.013666439825971124, -0.0044651127375644264], [0.024746265245030957, 0.9505880896497413, -0.02989794591249672], [0.026348396525436198, 0.006093306035856776, 1.0240377896180521]]\n",
      "\tpert =  [array([0., 0., 0.]), array([-0.00367282, -0.04774954,  0.15308381]), array([-0.13730881, -0.08156872,  0.01486584]), array([-0.09924398, -0.09305925,  0.08496334]), array([ 0.12405749, -0.08185577,  0.06031196]), array([-0.03700384, -0.02853542,  0.15344252]), array([-0.1348082 , -0.07120556,  0.04984654]), array([-0.1165478 , -0.0920216 ,  0.06063658]), array([-0.01243337,  0.09750198, -0.12675542]), array([ 0.06012837, -0.13144891, -0.06952643])]\n",
      "\n",
      "\n",
      "---> s2s22\n",
      "\tstrain =  [[0.9604603070612693, -0.0004590440274889959, -0.0027484426462338375], [-0.028763708538061032, 1.0283519026182006, -0.000965732116050444], [-0.029770299186636238, 0.02214631719966443, 1.026897735166707]]\n",
      "\tpert =  [array([0., 0., 0.]), array([ 0.04424333,  0.15405192, -0.00622033]), array([-0.13659308,  0.03204142, -0.07774213]), array([ 0.07827057, -0.12924835,  0.05382139]), array([ 0.13748129,  0.08161937, -0.01285813]), array([ 0.07895371, -0.10852819, -0.08784135]), array([ 0.14428638, -0.06421273,  0.02804148]), array([ 0.03924388, -0.1526526 ,  0.02975333]), array([-0.06656056,  0.14232724, -0.03226154]), array([-0.12784737,  0.08383574,  0.04852605]), array([-0.1159511 , -0.10806089,  0.02462412]), array([ 0.00368554,  0.15804522, -0.0271346 ]), array([-0.01366484, -0.1556457 ,  0.03627463]), array([0.12363493, 0.05784837, 0.08423853]), array([ 0.12574898,  0.09380883, -0.03339547]), array([ 0.13624228, -0.03024699, -0.07906529]), array([-0.05074991, -0.14864363,  0.03252198]), array([-0.00309174, -0.15499164,  0.04118484]), array([ 0.02456054, -0.1566944 , -0.02391246]), array([ 0.11743502, -0.09484873,  0.05423003])]\n",
      "No lattice constant given. Using 4.01 for PbTiO3\n",
      "Trying perturbed structure re-gen for 111\n",
      "\tTest passed!\n",
      "Trying perturbed structure re-gen for 211\n",
      "\tTest passed!\n",
      "Trying perturbed structure re-gen for s2s21\n",
      "\tTest passed!\n",
      "Trying perturbed structure re-gen for s2s22\n",
      "\tTest passed!\n"
     ]
    }
   ],
   "source": [
    "if __name__ == \"__main__\":\n",
    "    print_all_types(straining = True)\n",
    "\n",
    "    \"\"\"Testing strained struct generation from structures\"\"\"\n",
    "    sclass = PerfectPerovskite()\n",
    "    # from pymatgen.analysis.structure_matcher import StructureMatcher\n",
    "    # sm = StructureMatcher(primitive_cell=False, scale=False, attempt_supercell=False, allow_subset=False)\n",
    "    for stype in allowed_struct_type:\n",
    "        print(\"Trying perturbed structure re-gen for {}\".format( stype))\n",
    "        strain_class = StrainedPerovskite.generate_random_strain(sclass, structure_type=stype,\n",
    "                                                                 max_strain=0.06, perturb_amnt=None)\n",
    "\n",
    "        og_strain_struct = strain_class.structure.copy()\n",
    "        new_strain_class = StrainedPerovskite.generate_from_final_structures( strain_class.base, \n",
    "                                                                             og_strain_struct)\n",
    "\n",
    "        # if not sm.fit( og_strain_struct, new_strain_class.structure):\n",
    "        coord_compare = np.linalg.norm( np.subtract( og_strain_struct.cart_coords.flatten(),\n",
    "                                        new_strain_class.structure.cart_coords.flatten()))\n",
    "        og_lattset = list(og_strain_struct.lattice.abc)\n",
    "        og_lattset.extend( list(og_strain_struct.lattice.angles))\n",
    "        new_lattset = list(new_strain_class.structure.lattice.abc)\n",
    "        new_lattset.extend( list(new_strain_class.structure.lattice.angles))\n",
    "        latt_compare = np.linalg.norm( np.subtract( og_lattset, new_lattset))\n",
    "        if coord_compare > 1e-5 or latt_compare > 1e-5:\n",
    "            raise ValueError(\"Structure fitting failed for {}\\ncoord score = {},\"\n",
    "                             \" latt score = {}\".format( stype, coord_compare, latt_compare))\n",
    "        else:\n",
    "            print(\"\\tTest passed!\")"
   ]
  },
  {
   "cell_type": "code",
   "execution_count": 116,
   "metadata": {},
   "outputs": [
    {
     "name": "stdout",
     "output_type": "stream",
     "text": [
      "Trying perturbed structure re-gen for 111\n",
      "<__main__.StrainedPerovskite object at 0x7f5940e54780>\n"
     ]
    }
   ],
   "source": [
    "stype = '111' # structure type\n",
    "\n",
    "print(\"Trying perturbed structure re-gen for {}\".format( stype))\n",
    "strain_class = StrainedPerovskite.generate_random_strain(sclass, structure_type=stype,\n",
    "                                                         max_strain=0.06, perturb_amnt=None)\n",
    "print(strain_class)"
   ]
  },
  {
   "cell_type": "code",
   "execution_count": 117,
   "metadata": {},
   "outputs": [
    {
     "name": "stdout",
     "output_type": "stream",
     "text": [
      "Full Formula (Ti1 Pb1 O3)\n",
      "Reduced Formula: TiPbO3\n",
      "abc   :   3.952372   4.226453   3.893939\n",
      "angles:  91.230570  90.526841  91.397107\n",
      "Sites (5)\n",
      "  #  SP           a         b         c\n",
      "---  ----  --------  --------  --------\n",
      "  0  Pb    0         0         0\n",
      "  1  Ti    0.527873  0.463479  0.492307\n",
      "  2  O     0.472082  0.496735  0.003662\n",
      "  3  O     0.55036   0.005164  0.520793\n",
      "  4  O     0.039405  0.492069  0.541689\n"
     ]
    }
   ],
   "source": [
    "og_strain_struct = strain_class.structure.copy()\n",
    "print(og_strain_struct)"
   ]
  },
  {
   "cell_type": "code",
   "execution_count": 111,
   "metadata": {},
   "outputs": [
    {
     "name": "stdout",
     "output_type": "stream",
     "text": [
      "Full Formula (Ti1 Pb1 O3)\n",
      "Reduced Formula: TiPbO3\n",
      "abc   :   4.008268   3.929547   3.983341\n",
      "angles:  91.202684  92.027660  92.315842\n",
      "Sites (5)\n",
      "  #  SP            a         b         c\n",
      "---  ----  ---------  --------  --------\n",
      "  0  Pb     0         0         0\n",
      "  1  Ti     0.560228  0.509091  0.493222\n",
      "  2  O      0.478971  0.499768  0.012507\n",
      "  3  O      0.506392  0.002621  0.470132\n",
      "  4  O     -0.009486  0.507875  0.513746\n"
     ]
    }
   ],
   "source": [
    "new_strain_class = StrainedPerovskite.generate_from_final_structures( strain_class.base, \n",
    "                                                                     og_strain_struct)\n",
    "print(new_strain_class.structure)"
   ]
  },
  {
   "cell_type": "code",
   "execution_count": 112,
   "metadata": {},
   "outputs": [
    {
     "name": "stdout",
     "output_type": "stream",
     "text": [
      "8.312783312742731e-16\n"
     ]
    }
   ],
   "source": [
    "# if not sm.fit( og_strain_struct, new_strain_class.structure):\n",
    "coord_compare = np.linalg.norm( np.subtract( og_strain_struct.cart_coords.flatten(),\n",
    "                                new_strain_class.structure.cart_coords.flatten()))\n",
    "print(coord_compare)"
   ]
  },
  {
   "cell_type": "code",
   "execution_count": 113,
   "metadata": {},
   "outputs": [
    {
     "name": "stdout",
     "output_type": "stream",
     "text": [
      "[4.008267683927892, 3.9295465317960714, 3.9833414678907544, 91.202683640732, 92.02765972918247, 92.31584159000296]\n"
     ]
    }
   ],
   "source": [
    "og_lattset = list(og_strain_struct.lattice.abc)\n",
    "og_lattset.extend( list(og_strain_struct.lattice.angles))\n",
    "print(og_lattset)"
   ]
  },
  {
   "cell_type": "code",
   "execution_count": 114,
   "metadata": {},
   "outputs": [
    {
     "name": "stdout",
     "output_type": "stream",
     "text": [
      "[4.008267683927892, 3.9295465317960714, 3.9833414678907544, 91.202683640732, 92.02765972918247, 92.31584159000296]\n"
     ]
    }
   ],
   "source": [
    "new_lattset = list(new_strain_class.structure.lattice.abc)\n",
    "new_lattset.extend( list(new_strain_class.structure.lattice.angles))\n",
    "print(new_lattset)"
   ]
  },
  {
   "cell_type": "code",
   "execution_count": 115,
   "metadata": {},
   "outputs": [
    {
     "name": "stdout",
     "output_type": "stream",
     "text": [
      "\tTest passed!\n"
     ]
    }
   ],
   "source": [
    "latt_compare = np.linalg.norm( np.subtract( og_lattset, new_lattset))\n",
    "if coord_compare > 1e-5 or latt_compare > 1e-5:\n",
    "    raise ValueError(\"Structure fitting failed for {}\\ncoord score = {},\"\n",
    "                     \" latt score = {}\".format( stype, coord_compare, latt_compare))\n",
    "else:\n",
    "    print(\"\\tTest passed!\")"
   ]
  },
  {
   "cell_type": "code",
   "execution_count": null,
   "metadata": {},
   "outputs": [],
   "source": []
  }
 ],
 "metadata": {
  "kernelspec": {
   "display_name": "Python 3",
   "language": "python",
   "name": "python3"
  },
  "language_info": {
   "codemirror_mode": {
    "name": "ipython",
    "version": 3
   },
   "file_extension": ".py",
   "mimetype": "text/x-python",
   "name": "python",
   "nbconvert_exporter": "python",
   "pygments_lexer": "ipython3",
   "version": "3.7.3"
  }
 },
 "nbformat": 4,
 "nbformat_minor": 2
}
